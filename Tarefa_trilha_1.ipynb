{
  "nbformat": 4,
  "nbformat_minor": 0,
  "metadata": {
    "colab": {
      "name": "Tarefa trilha 1.ipynb",
      "provenance": [],
      "collapsed_sections": [],
      "authorship_tag": "ABX9TyMpkHjqt425PLAzrwg7stVs",
      "include_colab_link": true
    },
    "kernelspec": {
      "name": "python3",
      "display_name": "Python 3"
    },
    "language_info": {
      "name": "python"
    }
  },
  "cells": [
    {
      "cell_type": "markdown",
      "metadata": {
        "id": "view-in-github",
        "colab_type": "text"
      },
      "source": [
        "<a href=\"https://colab.research.google.com/github/eltonfmoraes/trilha1_pos_prog/blob/main/Tarefa_trilha_1.ipynb\" target=\"_parent\"><img src=\"https://colab.research.google.com/assets/colab-badge.svg\" alt=\"Open In Colab\"/></a>"
      ]
    },
    {
      "cell_type": "markdown",
      "source": [
        "## **Atividade Trilha 1**"
      ],
      "metadata": {
        "id": "MT0hKaKLUiNT"
      }
    },
    {
      "cell_type": "markdown",
      "source": [
        "  Para esta atividade de criação de dicionário de dados, como um amante do automobilismo, mais especificamente de Fórmula 1, utilizei a biografia de um dos maiores, se não o maior, piloto da história, **Ayrton Senna**. Texto este, retirado de seu próprio site oficial, contendo mais de 1200 palavras para compor a atividade."
      ],
      "metadata": {
        "id": "5gGzfZB4U0Rn"
      }
    },
    {
      "cell_type": "markdown",
      "source": [
        "####**Aquisição dos dados**\n",
        "\n",
        "---\n",
        "\n",
        "\n"
      ],
      "metadata": {
        "id": "yF-wZI9VWGYZ"
      }
    },
    {
      "cell_type": "code",
      "execution_count": null,
      "metadata": {
        "id": "BMwmQafYH384"
      },
      "outputs": [],
      "source": [
        "import urllib.request\n",
        "\n",
        "texto = []\n",
        "\n",
        "for line in urllib.request.urlopen('https://raw.githubusercontent.com/eltonfmoraes/trilha1_pos_prog/main/Ayrton_Senna.txt'):\n",
        "  texto.append(line.decode('utf-8'))\n",
        "\n",
        "for i in range(len(texto)):\n",
        "  texto[i] = texto[i].lower() #deixar palavras escritas da mesma forma\n",
        "  texto[i] = texto[i].replace('\\n','')\n",
        "  texto[i] = texto[i].replace('.','')\n",
        "  texto[i] = texto[i].replace('-','')\n",
        "  texto[i] = texto[i].replace(',','')\n",
        "  texto[i] = texto[i].replace('(','')\n",
        "  texto[i] = texto[i].replace(')','')\n",
        "  texto[i] = texto[i].replace('?','')\n",
        "  texto[i] = texto[i].replace('\\'','') #remove aspas simples e duplas"
      ]
    },
    {
      "cell_type": "markdown",
      "source": [
        "####**Construção do dicionário**\n",
        "\n",
        "---"
      ],
      "metadata": {
        "id": "yaHZL3DXWk6s"
      }
    },
    {
      "cell_type": "code",
      "source": [
        "mydict = {} #criando dicionário vazio\n",
        "\n",
        "for line in texto:\n",
        "  line = line.lower()\n",
        "  words = line.split()\n",
        "  #print(words) #ok\n",
        "\n",
        "  for word in words:\n",
        "    if word not in mydict.keys():\n",
        "      mydict[word] = 1\n",
        "    else:\n",
        "      mydict[word] = mydict[word] + 1\n",
        "\n",
        "print(mydict)"
      ],
      "metadata": {
        "id": "ev9eAmdbWiXY"
      },
      "execution_count": null,
      "outputs": []
    },
    {
      "cell_type": "markdown",
      "source": [
        "####**Exibição dos resultados**\n",
        "\n",
        "---"
      ],
      "metadata": {
        "id": "qhrSMIz9Wr04"
      }
    },
    {
      "cell_type": "code",
      "source": [
        "import pandas as pd\n",
        "import seaborn as sns\n",
        "import matplotlib as mpl\n",
        "import matplotlib.pyplot as plt\n",
        "\n",
        "df = pd.DataFrame(mydict.items(),columns=['word','count']).sort_values('count',ascending=False)\n",
        "df = df[df['count'] > 3] #somente palavras com mais de 3 ocorrências\n",
        "\n",
        "plt.figure(figsize=(30,10))\n",
        "mpl.style.use(['seaborn-deep'])\n",
        "sns.barplot(x=df.word,y=df['count'],palette=\"viridis\")\n",
        "plt.xticks(rotation=90)\n",
        "\n",
        "plt.show()"
      ],
      "metadata": {
        "id": "UASPrCZ7WuxA"
      },
      "execution_count": null,
      "outputs": []
    },
    {
      "cell_type": "markdown",
      "source": [
        "####**Conclusão**\n",
        "\n",
        "---"
      ],
      "metadata": {
        "id": "tXwaB4Qe6Jl9"
      }
    },
    {
      "cell_type": "markdown",
      "source": [
        "Pode-se concluir que a lei de Zipf faz sentido na maioria dos textos, porém, nem todos seguem a teoria de: a palavra mais repetida aparece duas vezes mais que a segunda, mas, no exemplo executado nesta atividade, a diferença começa a aparecer mais claramente após a terceira frequência."
      ],
      "metadata": {
        "id": "49LAz-HP6OZ8"
      }
    }
  ]
}